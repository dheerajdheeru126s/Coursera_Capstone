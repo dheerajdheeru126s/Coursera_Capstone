{
 "metadata": {
  "language_info": {
   "codemirror_mode": {
    "name": "ipython",
    "version": 3
   },
   "file_extension": ".py",
   "mimetype": "text/x-python",
   "name": "python",
   "nbconvert_exporter": "python",
   "pygments_lexer": "ipython3",
   "version": "3.9.1"
  },
  "orig_nbformat": 2,
  "kernelspec": {
   "name": "python391jvsc74a57bd025bf1dab56f13e21d80318cd5e789e076f92a14fa9924f370a2a818164c863f4",
   "display_name": "Python 3.9.1 64-bit"
  }
 },
 "nbformat": 4,
 "nbformat_minor": 2,
 "cells": [
  {
   "cell_type": "code",
   "execution_count": 2,
   "metadata": {},
   "outputs": [],
   "source": [
    "import numpy as np\n",
    "import pandas as pd"
   ]
  },
  {
   "source": [
    "### Peer-graded Assignment: Segmenting and Clustering Neighborhoods in Toronto\n",
    "For this assignment, you will be required to explore and cluster the neighborhoods in Toronto.\n",
    "1- Start by creating a new Notebook for this assignment.\n",
    "2- Use the Notebook to build the code to scrape the following Wikipedia page, https://en.wikipedia.org/wiki/List_of_postal_codes_of_Canada:_M, in order to obtain the data that is in the table of postal codes and to transform the data into a pandas dataframe"
   ],
   "cell_type": "markdown",
   "metadata": {}
  },
  {
   "cell_type": "code",
   "execution_count": 3,
   "metadata": {},
   "outputs": [],
   "source": [
    "\n",
    "# importing necessary libraries\n",
    "import pandas as pd\n",
    "import numpy as np\n",
    "from bs4 import BeautifulSoup\n",
    "import requests"
   ]
  },
  {
   "cell_type": "code",
   "execution_count": 4,
   "metadata": {},
   "outputs": [],
   "source": [
    "# getting data from internet\n",
    "wikipedia_link='https://en.wikipedia.org/wiki/List_of_postal_codes_of_Canada:_M'\n",
    "raw_wikipedia_page= requests.get(wikipedia_link).text\n",
    "\n",
    "# using beautiful soup to parse the HTML/XML codes.\n",
    "soup = BeautifulSoup(raw_wikipedia_page,'html.parser')\n",
    "#print(soup.prettify())"
   ]
  },
  {
   "source": [
    "## Processing-part-1: extracting raw table (from webpage)"
   ],
   "cell_type": "markdown",
   "metadata": {}
  },
  {
   "cell_type": "code",
   "execution_count": 5,
   "metadata": {},
   "outputs": [],
   "source": [
    "table = soup.find('table')\n",
    "\n",
    "Postcode      = []\n",
    "Borough       = []\n",
    "Neighbourhood = []\n",
    "\n",
    "# print(table)\n",
    "\n",
    "# extracting a clean form of the table\n",
    "for tr_cell in table.find_all('tr'):\n",
    "    \n",
    "    counter = 1\n",
    "    Postcode_var      = -1\n",
    "    Borough_var       = -1\n",
    "    Neighbourhood_var = -1\n",
    "    \n",
    "    for td_cell in tr_cell.find_all('td'):\n",
    "        if counter == 1: \n",
    "            Postcode_var = td_cell.text\n",
    "        if counter == 2: \n",
    "            Borough_var = td_cell.text\n",
    "            tag_a_Borough = td_cell.find('a')\n",
    "            \n",
    "        if counter == 3: \n",
    "            Neighbourhood_var = str(td_cell.text).strip()\n",
    "            tag_a_Neighbourhood = td_cell.find('a')\n",
    "            \n",
    "        counter +=1\n",
    "        \n",
    "    if (Postcode_var == 'Not assigned' or Borough_var == 'Not assigned' or Neighbourhood_var == 'Not assigned'): \n",
    "        continue\n",
    "    try:\n",
    "        if ((tag_a_Borough is None) or (tag_a_Neighbourhood is None)):\n",
    "            continue\n",
    "    except:\n",
    "        pass\n",
    "    if(Postcode_var == -1 or Borough_var == -1 or Neighbourhood_var == -1):\n",
    "        continue\n",
    "        \n",
    "    Postcode.append(Postcode_var)\n",
    "    Borough.append(Borough_var)\n",
    "    Neighbourhood.append(Neighbourhood_var)"
   ]
  },
  {
   "source": [
    "## Processing-part-2: integrating Postal codes with more than 1 neighbour"
   ],
   "cell_type": "markdown",
   "metadata": {}
  },
  {
   "cell_type": "code",
   "execution_count": 6,
   "metadata": {},
   "outputs": [
    {
     "output_type": "stream",
     "name": "stdout",
     "text": [
      "num of unique Postal codes: 6\n"
     ]
    }
   ],
   "source": [
    "unique_p = set(Postcode)\n",
    "print('num of unique Postal codes:', len(unique_p))\n",
    "Postcode_u      = []\n",
    "Borough_u       = []\n",
    "Neighbourhood_u = []\n",
    "\n",
    "\n",
    "for postcode_unique_element in unique_p:\n",
    "    p_var = ''; b_var = ''; n_var = ''; \n",
    "    for postcode_idx, postcode_element in enumerate(Postcode):\n",
    "        if postcode_unique_element == postcode_element:\n",
    "            p_var = postcode_element;\n",
    "            b_var = Borough[postcode_idx]\n",
    "            if n_var == '': \n",
    "                n_var = Neighbourhood[postcode_idx]\n",
    "            else:\n",
    "                n_var = n_var + ', ' + Neighbourhood[postcode_idx]\n",
    "    Postcode_u.append(p_var)\n",
    "    Borough_u.append(b_var)\n",
    "    Neighbourhood_u.append(n_var)"
   ]
  },
  {
   "source": [
    "## Post-processing: creating an appropriate Pandas Dataframe"
   ],
   "cell_type": "markdown",
   "metadata": {}
  },
  {
   "cell_type": "code",
   "execution_count": 7,
   "metadata": {},
   "outputs": [
    {
     "output_type": "execute_result",
     "data": {
      "text/plain": [
       "                                            Postcode  \\\n",
       "0  \\nM1NScarborough(Birch Cliff / Cliffside West)...   \n",
       "1  \\nM1LScarborough(Golden Mile / Clairlea / Oakr...   \n",
       "2                    \\nM1HScarborough(Cedarbrae)\\n\\n   \n",
       "3          \\nM1JScarborough(Scarborough Village)\\n\\n   \n",
       "4  \\nM1KScarborough(Kennedy Park / Ionview / East...   \n",
       "5  \\nM1MScarborough(Cliffside / Cliffcrest / Scar...   \n",
       "\n",
       "                                             Borough  \\\n",
       "0               \\nM2NNorth York(Willowdale)South\\n\\n   \n",
       "1     \\nM2LNorth York(York Mills / Silver Hills)\\n\\n   \n",
       "2             \\nM2HNorth York(Hillcrest Village)\\n\\n   \n",
       "3  \\nM2JNorth York(Fairview / Henry Farm / Oriole...   \n",
       "4               \\nM2KNorth York(Bayview Village)\\n\\n   \n",
       "5      \\nM2MNorth York(Willowdale / Newtonbrook)\\n\\n   \n",
       "\n",
       "                                       Neighbourhood  \n",
       "0                  M3NNorth York(Downsview)Northwest  \n",
       "1                       M3LNorth York(Downsview)West  \n",
       "2  M3HNorth York(Bathurst Manor / Wilson Heights ...  \n",
       "3    M3JNorth York(Northwood Park / York University)  \n",
       "4        M3KNorth York(Downsview)East  (CFB Toronto)  \n",
       "5                    M3MNorth York(Downsview)Central  "
      ],
      "text/html": "<div>\n<style scoped>\n    .dataframe tbody tr th:only-of-type {\n        vertical-align: middle;\n    }\n\n    .dataframe tbody tr th {\n        vertical-align: top;\n    }\n\n    .dataframe thead th {\n        text-align: right;\n    }\n</style>\n<table border=\"1\" class=\"dataframe\">\n  <thead>\n    <tr style=\"text-align: right;\">\n      <th></th>\n      <th>Postcode</th>\n      <th>Borough</th>\n      <th>Neighbourhood</th>\n    </tr>\n  </thead>\n  <tbody>\n    <tr>\n      <th>0</th>\n      <td>\\nM1NScarborough(Birch Cliff / Cliffside West)...</td>\n      <td>\\nM2NNorth York(Willowdale)South\\n\\n</td>\n      <td>M3NNorth York(Downsview)Northwest</td>\n    </tr>\n    <tr>\n      <th>1</th>\n      <td>\\nM1LScarborough(Golden Mile / Clairlea / Oakr...</td>\n      <td>\\nM2LNorth York(York Mills / Silver Hills)\\n\\n</td>\n      <td>M3LNorth York(Downsview)West</td>\n    </tr>\n    <tr>\n      <th>2</th>\n      <td>\\nM1HScarborough(Cedarbrae)\\n\\n</td>\n      <td>\\nM2HNorth York(Hillcrest Village)\\n\\n</td>\n      <td>M3HNorth York(Bathurst Manor / Wilson Heights ...</td>\n    </tr>\n    <tr>\n      <th>3</th>\n      <td>\\nM1JScarborough(Scarborough Village)\\n\\n</td>\n      <td>\\nM2JNorth York(Fairview / Henry Farm / Oriole...</td>\n      <td>M3JNorth York(Northwood Park / York University)</td>\n    </tr>\n    <tr>\n      <th>4</th>\n      <td>\\nM1KScarborough(Kennedy Park / Ionview / East...</td>\n      <td>\\nM2KNorth York(Bayview Village)\\n\\n</td>\n      <td>M3KNorth York(Downsview)East  (CFB Toronto)</td>\n    </tr>\n    <tr>\n      <th>5</th>\n      <td>\\nM1MScarborough(Cliffside / Cliffcrest / Scar...</td>\n      <td>\\nM2MNorth York(Willowdale / Newtonbrook)\\n\\n</td>\n      <td>M3MNorth York(Downsview)Central</td>\n    </tr>\n  </tbody>\n</table>\n</div>"
     },
     "metadata": {},
     "execution_count": 7
    }
   ],
   "source": [
    "toronto_dict = {'Postcode':Postcode_u, 'Borough':Borough_u, 'Neighbourhood':Neighbourhood_u}\n",
    "df_toronto = pd.DataFrame.from_dict(toronto_dict)\n",
    "df_toronto.to_csv('toronto_part1.csv')\n",
    "df_toronto.head(14)"
   ]
  },
  {
   "cell_type": "code",
   "execution_count": 8,
   "metadata": {},
   "outputs": [
    {
     "output_type": "execute_result",
     "data": {
      "text/plain": [
       "(6, 3)"
      ]
     },
     "metadata": {},
     "execution_count": 8
    }
   ],
   "source": [
    "df_toronto.shape"
   ]
  },
  {
   "cell_type": "code",
   "execution_count": null,
   "metadata": {},
   "outputs": [],
   "source": []
  }
 ]
}